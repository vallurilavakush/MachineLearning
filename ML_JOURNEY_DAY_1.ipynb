{
  "nbformat": 4,
  "nbformat_minor": 0,
  "metadata": {
    "colab": {
      "provenance": []
    },
    "kernelspec": {
      "name": "python3",
      "display_name": "Python 3"
    },
    "language_info": {
      "name": "python"
    }
  },
  "cells": [
    {
      "cell_type": "markdown",
      "source": [
        "Machine Learning is a set of techniques that allows machine to learn from data, and this knowledge help us to make decision for the problem with out explicit coding.\n",
        "Example : spam mails, youtube recommendations.\n",
        "Types of ML:\n",
        "1. Supervised learning:\n",
        "   model is trained on labeled data, where input data is paired with correct output.\n",
        "   eg, predicting house price.\n",
        "2. Unsupervised leaning:\n",
        "     model is given without explicit labels. goal is to find hidden patterns, relationships with out predefined outcomes\n",
        "     eg: Customer segmentation in marketing\n",
        "3. reinforcement learning\n",
        "    it is like learning by errors or trials.\n",
        "    eg: self driving cars.\n",
        "Model: it is mathematical representation of process that is learned from data.\n",
        "Data: information used to learn and train the model.\n",
        "training: process of feeding data to model to learn patterns and make predictions.\n"
      ],
      "metadata": {
        "id": "vfJvDA6jPa7b"
      }
    },
    {
      "cell_type": "code",
      "execution_count": 1,
      "metadata": {
        "colab": {
          "base_uri": "https://localhost:8080/"
        },
        "id": "n4hH3O5Ny7PG",
        "outputId": "0e931025-3010-46ff-ea6a-e72657d53c1b"
      },
      "outputs": [
        {
          "output_type": "stream",
          "name": "stdout",
          "text": [
            "original string = Lavakush\n",
            "reversed string= hsukavaL\n"
          ]
        }
      ],
      "source": [
        "#using recursive\n",
        "def reverse_string_recursive(input_str):\n",
        "    if len(input_str) <= 1:\n",
        "        return input_str\n",
        "    return reverse_string_recursive(input_str[1:]) + input_str[0]\n",
        "original_string = \"Lavakush\"\n",
        "result = reverse_string_recursive(original_string)\n",
        "print(\"original string =\", original_string)\n",
        "print(\"reversed string=\", result)"
      ]
    },
    {
      "cell_type": "code",
      "source": [
        "original_string = \"Lavakush\"\n",
        "result = reverse_string_recursive(original_string)\n",
        "print(\"original string =\", original_string)\n",
        "print(\"reversed string=\", result)"
      ],
      "metadata": {
        "colab": {
          "base_uri": "https://localhost:8080/"
        },
        "id": "Q9HMx7GnzCow",
        "outputId": "26591c7b-22d3-40e6-afac-78811da112fb"
      },
      "execution_count": 9,
      "outputs": [
        {
          "output_type": "stream",
          "name": "stdout",
          "text": [
            "original string = Lavakush\n",
            "reversed string= hsukavaL\n"
          ]
        }
      ]
    },
    {
      "cell_type": "code",
      "source": [
        "#factorial\n",
        "def factorial(n):\n",
        "  factorial = 1\n",
        "  for i in range(n):\n",
        "    factorial*= i+1\n",
        "  return factorial\n",
        "for i in range(10):\n",
        "    print(factorial(i))"
      ],
      "metadata": {
        "colab": {
          "base_uri": "https://localhost:8080/"
        },
        "id": "SIeemkK9HqhX",
        "outputId": "5149a9c6-b567-4392-8b7b-2d372161a450"
      },
      "execution_count": 36,
      "outputs": [
        {
          "output_type": "stream",
          "name": "stdout",
          "text": [
            "1\n",
            "1\n",
            "2\n",
            "6\n",
            "24\n",
            "120\n",
            "720\n",
            "5040\n",
            "40320\n",
            "362880\n"
          ]
        }
      ]
    },
    {
      "cell_type": "code",
      "source": [
        "#Palindrome\n",
        "def is_valid_palindrome(s):\n",
        "    new_string = ''.join(char.lower() for char in s if char.isalnum())\n",
        "    return new_string == new_string[::-1]\n",
        "s = \"A man, a plan, a canal, Panama!\"\n",
        "result = is_valid_palindrome(s)\n",
        "print(result)"
      ],
      "metadata": {
        "colab": {
          "base_uri": "https://localhost:8080/"
        },
        "id": "voLaXrkcLhqy",
        "outputId": "e4eff65b-fb23-4f35-8585-56b543b1b6ec"
      },
      "execution_count": 40,
      "outputs": [
        {
          "output_type": "stream",
          "name": "stdout",
          "text": [
            "True\n"
          ]
        }
      ]
    }
  ]
}